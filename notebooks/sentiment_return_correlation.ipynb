{
 "cells": [
  {
   "cell_type": "markdown",
   "id": "950ea44d",
   "metadata": {},
   "source": [
    "## 🟩 1. Load Stock Data"
   ]
  },
  {
   "cell_type": "code",
   "execution_count": null,
   "id": "d7ee035f",
   "metadata": {},
   "outputs": [],
   "source": [
    "import sys, pathlib\n",
    "sys.path.append(str(pathlib.Path.cwd().parent / 'src'))\n",
    "data_dir = \"../data/\"\n",
    "from data_loader import StockDataLoader\n",
    "from indicators import TechnicalIndicatorCalculator\n",
    "from utils import TechnicalIndicatorPlotter\n",
    "from metrics import PerformanceMetrics\n",
    "ticker_1 = \"AAPL\"\n",
    "ticker_2 = \"AMZN\"\n",
    "ticker_3 = \"GOOG\"\n",
    "ticker_4 = \"MSFT\"\n",
    "ticker_5 = \"NVDA\"\n",
    "ticker_6 = \"TSLA\"\n",
    "\n",
    "# Set the base data directory\n",
    "loader = StockDataLoader(data_dir=data_dir)\n",
    "\n",
    "# Step 1: Load data\n",
    "df = loader.load(ticker_6)\n",
    "\n",
    "df.head()"
   ]
  },
  {
   "cell_type": "markdown",
   "id": "54ba6527",
   "metadata": {},
   "source": [
    "## 🟩 2. Technical Indicators"
   ]
  },
  {
   "cell_type": "code",
   "execution_count": null,
   "id": "d42fff7d",
   "metadata": {},
   "outputs": [],
   "source": [
    "# Step 2: Calculate indicators\n",
    "calculator = TechnicalIndicatorCalculator(df)\n",
    "aapl_indicators_df = calculator.add_indicators()\n",
    "\n",
    "# Ready for visualization or modeling\n",
    "print(aapl_indicators_df.head())"
   ]
  },
  {
   "cell_type": "markdown",
   "id": "291446e5",
   "metadata": {},
   "source": [
    "## 🟩 3. PyNance Metrics"
   ]
  },
  {
   "cell_type": "code",
   "execution_count": null,
   "id": "526ef2c0",
   "metadata": {},
   "outputs": [],
   "source": [
    "daily_returns = PerformanceMetrics.calculate_daily_returns(df)\n",
    "volatility = PerformanceMetrics.calculate_volatility(daily_returns)\n",
    "sharpe_ratio = PerformanceMetrics.calculate_sharpe_ratio(daily_returns, risk_free_rate=0.01)\n",
    "cumulative_returns = PerformanceMetrics.calculate_cumulative_returns(daily_returns)\n",
    "max_drawdown = PerformanceMetrics.calculate_max_drawdown(daily_returns)\n",
    "# Calculate rolling volatility for a 30-day window\n",
    "rolling_volatility = PerformanceMetrics.calculate_rolling_volatility(df, window=30)\n",
    "# Calculate rolling Sharpe ratio for a 30-day window\n",
    "rolling_sharpe_ratio = PerformanceMetrics.calculate_rolling_sharpe_ratio(df, window=30)\n",
    "\n",
    "# Print rolling metrics\n",
    "print(f\"Rolling Volatility (30-day):\\n{rolling_volatility}\")\n",
    "print(f\"Rolling Sharpe Ratio (30-day):\\n{rolling_sharpe_ratio}\")\n",
    "print(daily_returns)\n",
    "print(f\"Annualized Volatility: {volatility:.4f}\")\n",
    "print(f\"Sharpe Ratio: {sharpe_ratio:.4f}\")\n",
    "print(f\"Cumulative Returns: {cumulative_returns.iloc[-1]:.4f}\")\n",
    "print(f\"Max Drawdown: {max_drawdown:.4f}\")"
   ]
  },
  {
   "cell_type": "markdown",
   "id": "429b3d00",
   "metadata": {},
   "source": [
    "## 🟩 5. Visualization"
   ]
  },
  {
   "cell_type": "code",
   "execution_count": null,
   "id": "eb237f73",
   "metadata": {},
   "outputs": [],
   "source": [
    "# Step 3: Plot\n",
    "plotter = TechnicalIndicatorPlotter(aapl_indicators_df, ticker=ticker_6)\n",
    "plotter.plot_price_and_indicators()\n",
    "\n",
    "TechnicalIndicatorPlotter.plot_cumulative_returns(cumulative_returns, stock_name=ticker_6)"
   ]
  },
  {
   "cell_type": "markdown",
   "id": "0a058bcb",
   "metadata": {},
   "source": [
    "## 🟩 6. Summary"
   ]
  },
  {
   "cell_type": "code",
   "execution_count": null,
   "id": "a6944361",
   "metadata": {},
   "outputs": [],
   "source": [
    "# Calculate summary metrics\n",
    "summary = PerformanceMetrics.summarize_metrics(df)\n",
    "\n",
    "print(\"📊 Summary Financial Metrics for AAPL:\")\n",
    "for metric, value in summary.items():\n",
    "    print(f\"{metric}: {value:.4f}\")"
   ]
  },
  {
   "cell_type": "code",
   "execution_count": null,
   "id": "717e2dcd",
   "metadata": {},
   "outputs": [],
   "source": []
  }
 ],
 "metadata": {
  "kernelspec": {
   "display_name": "envX",
   "language": "python",
   "name": "python3"
  },
  "language_info": {
   "codemirror_mode": {
    "name": "ipython",
    "version": 3
   },
   "file_extension": ".py",
   "mimetype": "text/x-python",
   "name": "python",
   "nbconvert_exporter": "python",
   "pygments_lexer": "ipython3",
   "version": "3.10.13"
  }
 },
 "nbformat": 4,
 "nbformat_minor": 5
}
